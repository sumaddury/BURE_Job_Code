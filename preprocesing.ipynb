{
 "cells": [
  {
   "cell_type": "code",
   "execution_count": null,
   "id": "e26f9769",
   "metadata": {},
   "outputs": [
    {
     "ename": "ModuleNotFoundError",
     "evalue": "No module named 'Analysis'",
     "output_type": "error",
     "traceback": [
      "\u001b[0;31m---------------------------------------------------------------------------\u001b[0m",
      "\u001b[0;31mModuleNotFoundError\u001b[0m                       Traceback (most recent call last)",
      "Cell \u001b[0;32mIn[1], line 2\u001b[0m\n\u001b[1;32m      1\u001b[0m \u001b[38;5;28;01mimport\u001b[39;00m\u001b[38;5;250m \u001b[39m\u001b[38;5;21;01mpandas\u001b[39;00m\u001b[38;5;250m \u001b[39m\u001b[38;5;28;01mas\u001b[39;00m\u001b[38;5;250m \u001b[39m\u001b[38;5;21;01mpd\u001b[39;00m\n\u001b[0;32m----> 2\u001b[0m \u001b[38;5;28;01mfrom\u001b[39;00m\u001b[38;5;250m \u001b[39m\u001b[38;5;21;01mAnalysis\u001b[39;00m\u001b[38;5;250m \u001b[39m\u001b[38;5;28;01mimport\u001b[39;00m compile_param_stats, slice_by_param, extract_row\n",
      "\u001b[0;31mModuleNotFoundError\u001b[0m: No module named 'Analysis'"
     ]
    }
   ],
   "source": [
    "import pandas as pd\n",
    "from Analysis import compile_param_stats, slice_by_param, extract_row"
   ]
  },
  {
   "cell_type": "code",
   "execution_count": null,
   "id": "3c37a086",
   "metadata": {},
   "outputs": [],
   "source": [
    "# compile_param_stats(\"lightning_dists\", save_csv=\"analysis/lightning_analysis.csv\")\n",
    "# print(\"Done\")\n"
   ]
  },
  {
   "cell_type": "code",
   "execution_count": null,
   "id": "e004ec5a",
   "metadata": {},
   "outputs": [
    {
     "data": {
      "text/html": [
       "<div>\n",
       "<style scoped>\n",
       "    .dataframe tbody tr th:only-of-type {\n",
       "        vertical-align: middle;\n",
       "    }\n",
       "\n",
       "    .dataframe tbody tr th {\n",
       "        vertical-align: top;\n",
       "    }\n",
       "\n",
       "    .dataframe thead th {\n",
       "        text-align: right;\n",
       "    }\n",
       "</style>\n",
       "<table border=\"1\" class=\"dataframe\">\n",
       "  <thead>\n",
       "    <tr style=\"text-align: right;\">\n",
       "      <th></th>\n",
       "      <th>test_name</th>\n",
       "      <th>seed_cfg</th>\n",
       "      <th>param_tag</th>\n",
       "      <th>expected</th>\n",
       "      <th>n</th>\n",
       "      <th>mean</th>\n",
       "      <th>var</th>\n",
       "      <th>q25</th>\n",
       "      <th>q75</th>\n",
       "      <th>min</th>\n",
       "      <th>max</th>\n",
       "      <th>skew</th>\n",
       "      <th>kurtosis</th>\n",
       "      <th>path_txt</th>\n",
       "      <th>path_png</th>\n",
       "    </tr>\n",
       "  </thead>\n",
       "  <tbody>\n",
       "    <tr>\n",
       "      <th>0</th>\n",
       "      <td>test_model_saves_with_example_input_array_87</td>\n",
       "      <td>SEEDS_RANDOM</td>\n",
       "      <td>_400-p0_0</td>\n",
       "      <td>400.0</td>\n",
       "      <td>100</td>\n",
       "      <td>512.0</td>\n",
       "      <td>0.0</td>\n",
       "      <td>512.0</td>\n",
       "      <td>512.0</td>\n",
       "      <td>512.0</td>\n",
       "      <td>512.0</td>\n",
       "      <td>NaN</td>\n",
       "      <td>NaN</td>\n",
       "      <td>/Users/sucheermaddury/Documents/Code/BUREProje...</td>\n",
       "      <td>/Users/sucheermaddury/Documents/Code/BUREProje...</td>\n",
       "    </tr>\n",
       "    <tr>\n",
       "      <th>1</th>\n",
       "      <td>test_model_saves_with_example_input_array_87</td>\n",
       "      <td>SEEDS_RANDOM</td>\n",
       "      <td>_400-p0_1</td>\n",
       "      <td>400.0</td>\n",
       "      <td>100</td>\n",
       "      <td>1274.0</td>\n",
       "      <td>0.0</td>\n",
       "      <td>1274.0</td>\n",
       "      <td>1274.0</td>\n",
       "      <td>1274.0</td>\n",
       "      <td>1274.0</td>\n",
       "      <td>NaN</td>\n",
       "      <td>NaN</td>\n",
       "      <td>/Users/sucheermaddury/Documents/Code/BUREProje...</td>\n",
       "      <td>/Users/sucheermaddury/Documents/Code/BUREProje...</td>\n",
       "    </tr>\n",
       "    <tr>\n",
       "      <th>2</th>\n",
       "      <td>test_model_saves_with_example_input_array_87</td>\n",
       "      <td>SEEDS_RANDOM,NUMPY,TORCH</td>\n",
       "      <td>_400-p0_0</td>\n",
       "      <td>400.0</td>\n",
       "      <td>100</td>\n",
       "      <td>512.0</td>\n",
       "      <td>0.0</td>\n",
       "      <td>512.0</td>\n",
       "      <td>512.0</td>\n",
       "      <td>512.0</td>\n",
       "      <td>512.0</td>\n",
       "      <td>NaN</td>\n",
       "      <td>NaN</td>\n",
       "      <td>/Users/sucheermaddury/Documents/Code/BUREProje...</td>\n",
       "      <td>/Users/sucheermaddury/Documents/Code/BUREProje...</td>\n",
       "    </tr>\n",
       "    <tr>\n",
       "      <th>3</th>\n",
       "      <td>test_model_saves_with_example_input_array_87</td>\n",
       "      <td>SEEDS_RANDOM,NUMPY,TORCH</td>\n",
       "      <td>_400-p0_1</td>\n",
       "      <td>400.0</td>\n",
       "      <td>100</td>\n",
       "      <td>1274.0</td>\n",
       "      <td>0.0</td>\n",
       "      <td>1274.0</td>\n",
       "      <td>1274.0</td>\n",
       "      <td>1274.0</td>\n",
       "      <td>1274.0</td>\n",
       "      <td>NaN</td>\n",
       "      <td>NaN</td>\n",
       "      <td>/Users/sucheermaddury/Documents/Code/BUREProje...</td>\n",
       "      <td>/Users/sucheermaddury/Documents/Code/BUREProje...</td>\n",
       "    </tr>\n",
       "    <tr>\n",
       "      <th>4</th>\n",
       "      <td>test_model_saves_with_example_input_array_87</td>\n",
       "      <td>SEEDS_NO_SEEDS</td>\n",
       "      <td>_400-p0_0</td>\n",
       "      <td>400.0</td>\n",
       "      <td>100</td>\n",
       "      <td>512.0</td>\n",
       "      <td>0.0</td>\n",
       "      <td>512.0</td>\n",
       "      <td>512.0</td>\n",
       "      <td>512.0</td>\n",
       "      <td>512.0</td>\n",
       "      <td>NaN</td>\n",
       "      <td>NaN</td>\n",
       "      <td>/Users/sucheermaddury/Documents/Code/BUREProje...</td>\n",
       "      <td>/Users/sucheermaddury/Documents/Code/BUREProje...</td>\n",
       "    </tr>\n",
       "  </tbody>\n",
       "</table>\n",
       "</div>"
      ],
      "text/plain": [
       "                                      test_name                  seed_cfg  \\\n",
       "0  test_model_saves_with_example_input_array_87              SEEDS_RANDOM   \n",
       "1  test_model_saves_with_example_input_array_87              SEEDS_RANDOM   \n",
       "2  test_model_saves_with_example_input_array_87  SEEDS_RANDOM,NUMPY,TORCH   \n",
       "3  test_model_saves_with_example_input_array_87  SEEDS_RANDOM,NUMPY,TORCH   \n",
       "4  test_model_saves_with_example_input_array_87            SEEDS_NO_SEEDS   \n",
       "\n",
       "   param_tag  expected    n    mean  var     q25     q75     min     max  \\\n",
       "0  _400-p0_0     400.0  100   512.0  0.0   512.0   512.0   512.0   512.0   \n",
       "1  _400-p0_1     400.0  100  1274.0  0.0  1274.0  1274.0  1274.0  1274.0   \n",
       "2  _400-p0_0     400.0  100   512.0  0.0   512.0   512.0   512.0   512.0   \n",
       "3  _400-p0_1     400.0  100  1274.0  0.0  1274.0  1274.0  1274.0  1274.0   \n",
       "4  _400-p0_0     400.0  100   512.0  0.0   512.0   512.0   512.0   512.0   \n",
       "\n",
       "   skew  kurtosis                                           path_txt  \\\n",
       "0   NaN       NaN  /Users/sucheermaddury/Documents/Code/BUREProje...   \n",
       "1   NaN       NaN  /Users/sucheermaddury/Documents/Code/BUREProje...   \n",
       "2   NaN       NaN  /Users/sucheermaddury/Documents/Code/BUREProje...   \n",
       "3   NaN       NaN  /Users/sucheermaddury/Documents/Code/BUREProje...   \n",
       "4   NaN       NaN  /Users/sucheermaddury/Documents/Code/BUREProje...   \n",
       "\n",
       "                                            path_png  \n",
       "0  /Users/sucheermaddury/Documents/Code/BUREProje...  \n",
       "1  /Users/sucheermaddury/Documents/Code/BUREProje...  \n",
       "2  /Users/sucheermaddury/Documents/Code/BUREProje...  \n",
       "3  /Users/sucheermaddury/Documents/Code/BUREProje...  \n",
       "4  /Users/sucheermaddury/Documents/Code/BUREProje...  "
      ]
     },
     "execution_count": 3,
     "metadata": {},
     "output_type": "execute_result"
    }
   ],
   "source": [
    "df = pd.read_csv(\"analysis/lightning_analysis.csv\")\n",
    "df.head()"
   ]
  },
  {
   "cell_type": "code",
   "execution_count": 4,
   "id": "5a4d6771",
   "metadata": {},
   "outputs": [],
   "source": [
    "# sub = slice_by_test_and_param(df, \"test_model_saves_with_example_input_array_87\", \"_400-p0_0\")\n",
    "# sub.head(10)"
   ]
  },
  {
   "cell_type": "code",
   "execution_count": 20,
   "id": "abe9c816",
   "metadata": {},
   "outputs": [
    {
     "data": {
      "text/plain": [
       "(27,\n",
       " ['test_advanced_profiler_describe_308',\n",
       "  'test_advanced_profiler_dump_states_321',\n",
       "  'test_advanced_profiler_durations_283',\n",
       "  'test_ckpt_metric_names_868',\n",
       "  'test_dtensor_model_summary_357',\n",
       "  'test_dtensor_model_summary_358',\n",
       "  'test_dtensor_model_summary_359',\n",
       "  'test_full_loop_244',\n",
       "  'test_full_loop_249',\n",
       "  'test_log_on_train_start_769',\n",
       "  'test_model_saves_on_gpu_68',\n",
       "  'test_model_saves_with_example_input_array_87',\n",
       "  'test_model_saves_with_input_sample_42',\n",
       "  'test_model_saves_with_input_sample_47',\n",
       "  'test_model_saves_with_input_sample_51',\n",
       "  'test_timer_resume_training_167',\n",
       "  'test_timer_resume_training_168',\n",
       "  'test_timer_resume_training_175',\n",
       "  'test_timer_stops_training_121',\n",
       "  'test_timer_stops_training_122',\n",
       "  'test_timer_track_stages_188',\n",
       "  'test_timer_track_stages_191',\n",
       "  'test_train_loop_only_168',\n",
       "  'test_train_val_loop_only_185',\n",
       "  'test_trainer_min_steps_and_epochs_571',\n",
       "  'test_trainer_min_steps_and_epochs_580',\n",
       "  'test_wrapper_14'])"
      ]
     },
     "execution_count": 20,
     "metadata": {},
     "output_type": "execute_result"
    }
   ],
   "source": [
    "tests = sorted(list(set(df[\"test_name\"])))\n",
    "len(tests), tests"
   ]
  },
  {
   "cell_type": "code",
   "execution_count": 19,
   "id": "f93a3fea",
   "metadata": {},
   "outputs": [
    {
     "data": {
      "text/plain": [
       "['test_full_loop_244',\n",
       " 'test_full_loop_249',\n",
       " 'test_train_loop_only_168',\n",
       " 'test_train_val_loop_only_185']"
      ]
     },
     "execution_count": 19,
     "metadata": {},
     "output_type": "execute_result"
    }
   ],
   "source": [
    "interesting_tests = []\n",
    "\n",
    "for test_assertion in tests:\n",
    "    sub = slice_by_param(df, \"test_name\", test_assertion)\n",
    "    for parametrization in sorted(list(set(sub[\"param_tag\"]))):\n",
    "        sub_sub = slice_by_param(sub, \"param_tag\", parametrization)\n",
    "        unseeded = extract_row(sub_sub, \"seed_cfg\", \"SEEDS_NO_SEEDS\")\n",
    "        seeded = extract_row(sub_sub, \"seed_cfg\", \"SEEDS_RANDOM,NUMPY,TORCH\")\n",
    "        if float(unseeded.var) > 0 and float(seeded.var) <= (0.05 * float(unseeded.var)):\n",
    "            interesting_tests.append(test_assertion)\n",
    "            break\n",
    "\n",
    "interesting_tests"
   ]
  }
 ],
 "metadata": {
  "kernelspec": {
   "display_name": "main",
   "language": "python",
   "name": "python3"
  },
  "language_info": {
   "codemirror_mode": {
    "name": "ipython",
    "version": 3
   },
   "file_extension": ".py",
   "mimetype": "text/x-python",
   "name": "python",
   "nbconvert_exporter": "python",
   "pygments_lexer": "ipython3",
   "version": "3.10.18"
  }
 },
 "nbformat": 4,
 "nbformat_minor": 5
}
